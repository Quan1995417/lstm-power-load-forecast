{
 "cells": [
  {
   "cell_type": "code",
   "execution_count": 1,
   "metadata": {},
   "outputs": [],
   "source": [
    "# encoding: utf-8\n",
    "\n",
    "import tensorflow as tf\n",
    "import numpy as np\n",
    "import pandas as pd\n",
    "import matplotlib\n",
    "# 在 jupyter notebook 中使用 matplotlib\n",
    "%matplotlib inline\n",
    "# matplotlib.use('Agg')  # 服务器端使用 matplotlib\n",
    "import matplotlib.pyplot as plt\n",
    "import os"
   ]
  },
  {
   "cell_type": "code",
   "execution_count": 2,
   "metadata": {},
   "outputs": [
    {
     "name": "stdout",
     "output_type": "stream",
     "text": [
      "load_norm shape: (105192, 1)\n",
      "[[-0.85610657]\n",
      " [-0.99451862]\n",
      " [-1.14643429]\n",
      " [-1.2432102 ]\n",
      " [-1.32423189]\n",
      " [-1.3366102 ]\n",
      " [-1.23308249]\n",
      " [-1.17906803]\n",
      " [-1.08454272]\n",
      " [-1.03165356]]\n"
     ]
    },
    {
     "data": {
      "image/png": "[encoded data removed]",
      "text/plain": [
       "<Figure size 432x288 with 1 Axes>"
      ]
     },
     "metadata": {
      "needs_background": "light"
     },
     "output_type": "display_data"
    }
   ],
   "source": [
    "file1 = \"./data/Hourly_load_data_(2005-2015).xlsx\"\n",
    "file2 = \"./data/Hourly-load-data-for-2016.xlsx\"\n",
    "\n",
    "df1 = pd.read_excel(file1, sheet_name=0)\n",
    "df2 = pd.read_excel(file2, sheet_name=0)\n",
    "\n",
    "# 选出第二列\n",
    "load1 = df1[\"Alberta Internal Load\"]\n",
    "load2 = df2[\"Alberta Internal Load\"]\n",
    "\n",
    "# 合并 05-15 年以及 16 年的数据\n",
    "load = pd.concat([load1, load2], ignore_index=True)\n",
    "plt.figure()\n",
    "plt.plot(load)\n",
    "\n",
    "\"\"\"\n",
    "数据做标准化处理\n",
    "\"\"\"\n",
    "load_norm = (load - np.mean(load)) / np.std(load)\n",
    "\n",
    "\"\"\"\n",
    "增加数据维度\n",
    "\"\"\"\n",
    "load_norm = load_norm[:, np.newaxis]\n",
    "print('load_norm shape: {}'.format(load_norm.shape))\n",
    "print(load_norm[:10])"
   ]
  },
  {
   "cell_type": "code",
   "execution_count": 3,
   "metadata": {},
   "outputs": [],
   "source": [
    "#设置常量\n",
    "time_step=20      #time step\n",
    "rnn_unit=64       #hidden layer units\n",
    "batch_size=64     #batch size\n",
    "input_size=1      #input size\n",
    "output_size=1     #output size\n",
    "lr=0.0001         #learning rate\n",
    "\n",
    "train_x, train_y=[], []\n",
    "for i in range(len(load_norm)- time_step - 1):\n",
    "    x=load_norm[i: i + time_step]\n",
    "    y=load_norm[i + 1: i + time_step + 1]\n",
    "    train_x.append(x.tolist())\n",
    "    train_y.append(y.tolist())"
   ]
  },
  {
   "cell_type": "code",
   "execution_count": 4,
   "metadata": {},
   "outputs": [],
   "source": [
    "train_x = np.array(train_x)\n",
    "train_y = np.array(train_y)\n",
    "test_x = train_x[100000:]\n",
    "test_y = train_y[100000:]\n",
    "train_x = train_x[:100000]\n",
    "train_y = train_x[:100000]"
   ]
  },
  {
   "cell_type": "code",
   "execution_count": 5,
   "metadata": {},
   "outputs": [
    {
     "name": "stdout",
     "output_type": "stream",
     "text": [
      "train_x shape: (100000, 20, 1)\n",
      "train_y shape: (100000, 20, 1)\n",
      "test_x shape: (5171, 20, 1)\n",
      "test_y shape: (5171, 20, 1)\n",
      "[[[-0.85610657]\n",
      "  [-0.99451862]\n",
      "  [-1.14643429]\n",
      "  [-1.2432102 ]\n",
      "  [-1.32423189]\n",
      "  [-1.3366102 ]\n",
      "  [-1.23308249]\n",
      "  [-1.17906803]\n",
      "  [-1.08454272]\n",
      "  [-1.03165356]\n",
      "  [-0.9776391 ]\n",
      "  [-0.7030656 ]\n",
      "  [-0.62204391]\n",
      "  [-0.62992102]\n",
      "  [-0.63329693]\n",
      "  [-0.57365596]\n",
      "  [-0.26307282]\n",
      "  [ 0.09139707]\n",
      "  [ 0.00699948]\n",
      "  [-0.09315233]]\n",
      "\n",
      " [[-0.99451862]\n",
      "  [-1.14643429]\n",
      "  [-1.2432102 ]\n",
      "  [-1.32423189]\n",
      "  [-1.3366102 ]\n",
      "  [-1.23308249]\n",
      "  [-1.17906803]\n",
      "  [-1.08454272]\n",
      "  [-1.03165356]\n",
      "  [-0.9776391 ]\n",
      "  [-0.7030656 ]\n",
      "  [-0.62204391]\n",
      "  [-0.62992102]\n",
      "  [-0.63329693]\n",
      "  [-0.57365596]\n",
      "  [-0.26307282]\n",
      "  [ 0.09139707]\n",
      "  [ 0.00699948]\n",
      "  [-0.09315233]\n",
      "  [-0.1584198 ]]]\n"
     ]
    }
   ],
   "source": [
    "print('train_x shape: {}'.format(train_x.shape))\n",
    "print('train_y shape: {}'.format(train_y.shape))\n",
    "print('test_x shape: {}'.format(test_x.shape))\n",
    "print('test_y shape: {}'.format(test_y.shape))\n",
    "print(train_x[:2])"
   ]
  },
  {
   "cell_type": "code",
   "execution_count": 5,
   "metadata": {},
   "outputs": [],
   "source": [
    "# 定义 placeholder\n",
    "X=tf.placeholder(tf.float32, [None,time_step,input_size])\n",
    "Y=tf.placeholder(tf.float32, [None,time_step,output_size])\n",
    "\n",
    "# 输入层、输出层权重、偏置\n",
    "weights = {\n",
    "    'in': tf.Variable(tf.random_normal([input_size, rnn_unit])),\n",
    "    'out': tf.Variable(tf.random_normal([rnn_unit, input_size]))\n",
    "}\n",
    "biases = {\n",
    "    'in': tf.Variable(tf.constant(0.1, shape=[rnn_unit,])),\n",
    "    'out': tf.Variable(tf.constant(0.1, shape=[output_size,]))\n",
    "}"
   ]
  },
  {
   "cell_type": "code",
   "execution_count": 8,
   "metadata": {},
   "outputs": [],
   "source": [
    "def lstm(batch):  #参数：输入网络批次数目\n",
    "    w_in = weights['in']\n",
    "    b_in = biases['in']\n",
    "    # 以下三行代码的运算过程如下：\n",
    "    #首先将tensor X转成2维进行计算\n",
    "    #[64, 20, 1] => [64 * 20, 1]\n",
    "    # [64*20, 1] * [1, 64] => [64*20, 64]\n",
    "    # [64*20, 64] => [64, 20, 64]\n",
    "    # 整体是计算了输入\n",
    "    input=tf.reshape(X,[-1, input_size])\n",
    "    input_rnn=tf.matmul(input,w_in)+b_in\n",
    "    input_rnn=tf.reshape(input_rnn,[-1,time_step,rnn_unit])  #将tensor转成3维，作为lstm cell的输入\n",
    "    cell=tf.nn.rnn_cell.BasicLSTMCell(rnn_unit)\n",
    "    init_state=cell.zero_state(batch,dtype=tf.float32)\n",
    "    #output_rnn是记录lstm每个输出节点的结果，final_states是最后一个cell的结果\n",
    "    output_rnn,final_states=tf.nn.dynamic_rnn(cell, input_rnn,initial_state=init_state, dtype=tf.float32)\n",
    "    #[64, 20, 64] => [64 * 20, 64]\n",
    "    #[64 * 20, 64] * [64, 1] => [64*20, 1]\n",
    "    # [64*20, 1] + bias => [64 * 20 ,1]\n",
    "    output=tf.reshape(output_rnn,[-1,rnn_unit]) #作为输出层的输入\n",
    "    w_out=weights['out']\n",
    "    b_out=biases['out']\n",
    "    pred=tf.matmul(output,w_out)+b_out\n",
    "    return pred,final_states"
   ]
  },
  {
   "cell_type": "code",
   "execution_count": 8,
   "metadata": {},
   "outputs": [],
   "source": [
    "def train_lstm():\n",
    "    global batch_size\n",
    "    pred,_=lstm(batch_size)\n",
    "    #损失函数\n",
    "    loss=tf.reduce_mean(tf.square(tf.reshape(pred,[-1])-tf.reshape(Y, [-1])))\n",
    "    train_op=tf.train.AdamOptimizer(lr).minimize(loss)\n",
    "    saver=tf.train.Saver()  # 保存变量\n",
    "    save_dir = './model'  # 目录\n",
    "    if not os.path.exists(save_dir):\n",
    "        os.makedirs(save_dir)\n",
    "    save_path = os.path.join(save_dir, 'best_validation')  # 最佳验证结果保存路径\n",
    "    with tf.Session() as sess:\n",
    "        sess.run(tf.global_variables_initializer())\n",
    "        #重复训练10000次\n",
    "        start = 0\n",
    "        end = start + batch_size\n",
    "        best_loss = np.inf\n",
    "        for step in range(10000):\n",
    "            if(end<len(train_x)):\n",
    "                _,loss_=sess.run([train_op,loss],feed_dict={X:train_x[start:end],Y:train_y[start:end]})\n",
    "                start+=batch_size\n",
    "                end=start+batch_size\n",
    "            else:\n",
    "                start = 0\n",
    "                end = start + batch_size\n",
    "            if step%500==0:\n",
    "                start_val = 0\n",
    "                end_val = start_val + batch_size\n",
    "                total_loss = 0\n",
    "                num = 0\n",
    "                while(end_val < len(test_x)):\n",
    "                    loss_temp = sess.run([loss],feed_dict={X:test_x[start_val:end_val],Y:test_y[start_val:end_val]})\n",
    "                    loss_temp = tf.squeeze(loss_temp)  # tf.squeeze() 删除所有维度为1的维度\n",
    "                    total_loss += sess.run(loss_temp)\n",
    "                    start_val += batch_size\n",
    "                    end_val = start_val + batch_size\n",
    "                    num += 1\n",
    "                loss_val = total_loss / num\n",
    "                print('setp: {}      train loss: {}      validation loss: {}'.format(step, loss_, loss_val))\n",
    "                if loss_val < best_loss:\n",
    "                    print('best_loss: {} -> {}, save model.'.format(best_loss, loss_val))\n",
    "                    best_loss = loss_val\n",
    "                    saver.save(sess=sess, save_path=save_path)\n",
    "            step += 1"
   ]
  },
  {
   "cell_type": "code",
   "execution_count": 9,
   "metadata": {
    "scrolled": false
   },
   "outputs": [
    {
     "name": "stdout",
     "output_type": "stream",
     "text": [
      "setp: 0      train loss: 7.9421210289001465      validation loss: 7.800604730844498\n",
      "best_loss: inf -> 7.800604730844498, save model.\n",
      "setp: 500      train loss: 0.004870368167757988      validation loss: 0.3511730349389836\n",
      "best_loss: 7.800604730844498 -> 0.3511730349389836, save model.\n",
      "setp: 1000      train loss: 0.004037308506667614      validation loss: 0.07431437058839947\n",
      "best_loss: 0.3511730349389836 -> 0.07431437058839947, save model.\n",
      "setp: 1500      train loss: 0.002303384244441986      validation loss: 0.055476910434663296\n",
      "best_loss: 0.07431437058839947 -> 0.055476910434663296, save model.\n",
      "setp: 2000      train loss: 0.001969343051314354      validation loss: 0.05432232823222875\n",
      "best_loss: 0.055476910434663296 -> 0.05432232823222875, save model.\n",
      "setp: 2500      train loss: 0.0013308876659721136      validation loss: 0.054471371392719445\n",
      "setp: 3000      train loss: 0.0007912603323347867      validation loss: 0.04746811070945114\n",
      "best_loss: 0.05432232823222875 -> 0.04746811070945114, save model.\n",
      "setp: 3500      train loss: 0.0006152402493171394      validation loss: 0.047773530287668106\n",
      "setp: 4000      train loss: 0.00035344838397577405      validation loss: 0.04957545504439622\n",
      "setp: 4500      train loss: 0.0006493263645097613      validation loss: 0.04814686665777117\n",
      "setp: 5000      train loss: 0.0002610427909530699      validation loss: 0.04512298428453505\n",
      "best_loss: 0.04746811070945114 -> 0.04512298428453505, save model.\n",
      "setp: 5500      train loss: 0.0004519816138781607      validation loss: 0.046056712488643826\n",
      "setp: 6000      train loss: 0.00023932449403218925      validation loss: 0.04570641254540533\n",
      "setp: 6500      train loss: 0.00014523147547151893      validation loss: 0.0453616946702823\n",
      "setp: 7000      train loss: 0.00011952155909966677      validation loss: 0.04618830240797252\n",
      "setp: 7500      train loss: 0.0006494203116744757      validation loss: 0.04371175009291619\n",
      "best_loss: 0.04512298428453505 -> 0.04371175009291619, save model.\n",
      "setp: 8000      train loss: 0.0001230952184414491      validation loss: 0.04550474444404244\n",
      "setp: 8500      train loss: 0.00010346870112698525      validation loss: 0.045836743572726844\n",
      "setp: 9000      train loss: 0.00016646142466925085      validation loss: 0.045050444058142604\n",
      "setp: 9500      train loss: 8.016314677661285e-05      validation loss: 0.04673052036669105\n"
     ]
    }
   ],
   "source": [
    "train_lstm()"
   ]
  },
  {
   "cell_type": "code",
   "execution_count": 10,
   "metadata": {},
   "outputs": [
    {
     "name": "stdout",
     "output_type": "stream",
     "text": [
      "[1]\n",
      "1\n"
     ]
    }
   ],
   "source": [
    "# 验证 tf.squeeze()\n",
    "# sess = tf.Session()\n",
    "# a = tf.Variable([1])\n",
    "# sess.run(a.initializer)\n",
    "# print(sess.run(a))\n",
    "# b = tf.squeeze(a)\n",
    "# print(sess.run(b))"
   ]
  }
 ],
 "metadata": {
  "kernelspec": {
   "display_name": "Python 3",
   "language": "python",
   "name": "python3"
  },
  "language_info": {
   "codemirror_mode": {
    "name": "ipython",
    "version": 3
   },
   "file_extension": ".py",
   "mimetype": "text/x-python",
   "name": "python",
   "nbconvert_exporter": "python",
   "pygments_lexer": "ipython3",
   "version": "3.5.2"
  }
 },
 "nbformat": 4,
 "nbformat_minor": 2
}
