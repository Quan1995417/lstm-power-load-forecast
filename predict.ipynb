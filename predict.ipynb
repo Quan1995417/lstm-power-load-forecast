{
 "cells": [
  {
   "cell_type": "code",
   "execution_count": 1,
   "metadata": {},
   "outputs": [],
   "source": [
    "# encoding: utf-8\n",
    "\n",
    "import tensorflow as tf\n",
    "import numpy as np\n",
    "import pandas as pd\n",
    "import matplotlib\n",
    "# 在 jupyter notebook 中使用 matplotlib\n",
    "%matplotlib inline\n",
    "# matplotlib.use('Agg')  # 服务器端使用 matplotlib\n",
    "import matplotlib.pyplot as plt\n",
    "import os"
   ]
  },
  {
   "cell_type": "code",
   "execution_count": 2,
   "metadata": {},
   "outputs": [
    {
     "name": "stdout",
     "output_type": "stream",
     "text": [
      "load_norm shape: (105192, 1)\n",
      "[[-0.85610657]\n",
      " [-0.99451862]\n",
      " [-1.14643429]\n",
      " [-1.2432102 ]\n",
      " [-1.32423189]\n",
      " [-1.3366102 ]\n",
      " [-1.23308249]\n",
      " [-1.17906803]\n",
      " [-1.08454272]\n",
      " [-1.03165356]]\n"
     ]
    },
    {
     "data": {
      "image/png": "[encoded data removed]",
      "text/plain": [
       "<Figure size 432x288 with 1 Axes>"
      ]
     },
     "metadata": {
      "needs_background": "light"
     },
     "output_type": "display_data"
    }
   ],
   "source": [
    "file1 = \"./data/Hourly_load_data_(2005-2015).xlsx\"\n",
    "file2 = \"./data/Hourly-load-data-for-2016.xlsx\"\n",
    "\n",
    "df1 = pd.read_excel(file1, sheet_name=0)\n",
    "df2 = pd.read_excel(file2, sheet_name=0)\n",
    "\n",
    "# 选出第二列\n",
    "load1 = df1[\"Alberta Internal Load\"]\n",
    "load2 = df2[\"Alberta Internal Load\"]\n",
    "\n",
    "# 合并 05-15 年以及 16 年的数据\n",
    "load = pd.concat([load1, load2], ignore_index=True)\n",
    "plt.figure()\n",
    "plt.plot(load)\n",
    "\n",
    "\"\"\"\n",
    "数据做标准化处理\n",
    "\"\"\"\n",
    "mean_val = np.mean(load)\n",
    "std_val = np.std(load)\n",
    "load_norm = (load - mean_val) / std_val\n",
    "\n",
    "\n",
    "\"\"\"\n",
    "增加数据维度\n",
    "\"\"\"\n",
    "load_norm = load_norm[:, np.newaxis]\n",
    "print('load_norm shape: {}'.format(load_norm.shape))\n",
    "print(load_norm[:10])"
   ]
  },
  {
   "cell_type": "code",
   "execution_count": 3,
   "metadata": {},
   "outputs": [],
   "source": [
    "#设置常量\n",
    "time_step=20      #time step\n",
    "rnn_unit=64       #hidden layer units\n",
    "batch_size=64     #batch size\n",
    "input_size=1      #input size\n",
    "output_size=1     #output size\n",
    "lr=0.0001         #learning rate\n",
    "\n",
    "train_x, train_y=[], []\n",
    "for i in range(len(load_norm)- time_step - 1):\n",
    "    x=load_norm[i: i + time_step]\n",
    "    y=load_norm[i + 1: i + time_step + 1]\n",
    "    train_x.append(x.tolist())\n",
    "    train_y.append(y.tolist())"
   ]
  },
  {
   "cell_type": "code",
   "execution_count": 4,
   "metadata": {},
   "outputs": [],
   "source": [
    "train_x = np.array(train_x)\n",
    "train_y = np.array(train_y)\n",
    "test_x = train_x[100000:]\n",
    "test_y = train_y[100000:]\n",
    "train_x = train_x[:100000]\n",
    "train_y = train_x[:100000]\n",
    "# 取100条验证集上的数据做验证\n",
    "test_x = test_x[:100]\n",
    "test_y = test_y[:100]"
   ]
  },
  {
   "cell_type": "code",
   "execution_count": 5,
   "metadata": {},
   "outputs": [
    {
     "name": "stdout",
     "output_type": "stream",
     "text": [
      "train_x shape: (100000, 20, 1)\n",
      "train_y shape: (100000, 20, 1)\n",
      "test_x shape: (100, 20, 1)\n",
      "test_y shape: (100, 20, 1)\n",
      "[[[-0.85610657]\n",
      "  [-0.99451862]\n",
      "  [-1.14643429]\n",
      "  [-1.2432102 ]\n",
      "  [-1.32423189]\n",
      "  [-1.3366102 ]\n",
      "  [-1.23308249]\n",
      "  [-1.17906803]\n",
      "  [-1.08454272]\n",
      "  [-1.03165356]\n",
      "  [-0.9776391 ]\n",
      "  [-0.7030656 ]\n",
      "  [-0.62204391]\n",
      "  [-0.62992102]\n",
      "  [-0.63329693]\n",
      "  [-0.57365596]\n",
      "  [-0.26307282]\n",
      "  [ 0.09139707]\n",
      "  [ 0.00699948]\n",
      "  [-0.09315233]]\n",
      "\n",
      " [[-0.99451862]\n",
      "  [-1.14643429]\n",
      "  [-1.2432102 ]\n",
      "  [-1.32423189]\n",
      "  [-1.3366102 ]\n",
      "  [-1.23308249]\n",
      "  [-1.17906803]\n",
      "  [-1.08454272]\n",
      "  [-1.03165356]\n",
      "  [-0.9776391 ]\n",
      "  [-0.7030656 ]\n",
      "  [-0.62204391]\n",
      "  [-0.62992102]\n",
      "  [-0.63329693]\n",
      "  [-0.57365596]\n",
      "  [-0.26307282]\n",
      "  [ 0.09139707]\n",
      "  [ 0.00699948]\n",
      "  [-0.09315233]\n",
      "  [-0.1584198 ]]]\n"
     ]
    }
   ],
   "source": [
    "print('train_x shape: {}'.format(train_x.shape))\n",
    "print('train_y shape: {}'.format(train_y.shape))\n",
    "print('test_x shape: {}'.format(test_x.shape))\n",
    "print('test_y shape: {}'.format(test_y.shape))\n",
    "print(train_x[:2])"
   ]
  },
  {
   "cell_type": "code",
   "execution_count": 6,
   "metadata": {},
   "outputs": [],
   "source": [
    "# 定义 placeholder\n",
    "X=tf.placeholder(tf.float32, [None,time_step,input_size])\n",
    "Y=tf.placeholder(tf.float32, [None,time_step,output_size])\n",
    "\n",
    "# 输入层、输出层权重、偏置\n",
    "weights = {\n",
    "    'in': tf.Variable(tf.random_normal([input_size, rnn_unit])),\n",
    "    'out': tf.Variable(tf.random_normal([rnn_unit, input_size]))\n",
    "}\n",
    "biases = {\n",
    "    'in': tf.Variable(tf.constant(0.1, shape=[rnn_unit,])),\n",
    "    'out': tf.Variable(tf.constant(0.1, shape=[output_size,]))\n",
    "}"
   ]
  },
  {
   "cell_type": "code",
   "execution_count": 7,
   "metadata": {},
   "outputs": [],
   "source": [
    "def lstm(batch):  #参数：输入网络批次数目\n",
    "    w_in = weights['in']\n",
    "    b_in = biases['in']\n",
    "    # 以下三行代码的运算过程如下：\n",
    "    #首先将tensor X转成2维进行计算\n",
    "    #[64, 20, 1] => [64 * 20, 1]\n",
    "    # [64*20, 1] * [1, 64] => [64*20, 64]\n",
    "    # [64*20, 64] => [64, 20, 64]\n",
    "    # 整体是计算了输入\n",
    "    input=tf.reshape(X,[-1, input_size])\n",
    "    input_rnn=tf.matmul(input,w_in)+b_in\n",
    "    input_rnn=tf.reshape(input_rnn,[-1,time_step,rnn_unit])  #将tensor转成3维，作为lstm cell的输入\n",
    "    cell=tf.nn.rnn_cell.BasicLSTMCell(rnn_unit)\n",
    "    init_state=cell.zero_state(batch,dtype=tf.float32)\n",
    "    #output_rnn是记录lstm每个输出节点的结果，final_states是最后一个cell的结果\n",
    "    output_rnn,final_states=tf.nn.dynamic_rnn(cell, input_rnn,initial_state=init_state, dtype=tf.float32)\n",
    "    #[64, 20, 64] => [64 * 20, 64]\n",
    "    #[64 * 20, 64] * [64, 1] => [64*20, 1]\n",
    "    # [64*20, 1] + bias => [64 * 20 ,1]\n",
    "    output=tf.reshape(output_rnn,[-1,rnn_unit]) #作为输出层的输入\n",
    "    w_out=weights['out']\n",
    "    b_out=biases['out']\n",
    "    pred=tf.matmul(output,w_out)+b_out\n",
    "    return pred,final_states"
   ]
  },
  {
   "cell_type": "code",
   "execution_count": 8,
   "metadata": {},
   "outputs": [],
   "source": [
    "def prediction():\n",
    "    y_predict = []\n",
    "    y_true = []\n",
    "    pred,_=lstm(1)    #预测时只输入[1,time_step,input_size]的测试数据\n",
    "    saver=tf.train.Saver(tf.global_variables())\n",
    "    with tf.Session() as sess:\n",
    "        new_saver = tf.train.import_meta_graph('./model/best_validation.meta')\n",
    "        new_saver.restore(sess, './model/best_validation')\n",
    "        start = 0\n",
    "        end = start + 1\n",
    "        while end < len(test_x):\n",
    "            pred_ = sess.run([pred], feed_dict={X:test_x[start:end]})\n",
    "            y_predict.append(pred_[0][-1][0] * std_val + mean_val)\n",
    "            y_true.append(test_y[start][-1][0] * std_val + mean_val)\n",
    "            start += 1\n",
    "            end = start + 1\n",
    "    plt.figure()\n",
    "    plt.plot(list(range(len(y_predict))), y_predict, color='b')\n",
    "    plt.plot(list(range(len(y_predict))), y_true, color='r')\n"
   ]
  },
  {
   "cell_type": "code",
   "execution_count": 9,
   "metadata": {
    "scrolled": false
   },
   "outputs": [
    {
     "name": "stdout",
     "output_type": "stream",
     "text": [
      "INFO:tensorflow:Restoring parameters from ./model/best_validation\n"
     ]
    },
    {
     "data": {
      "image/png": "[encoded data removed]",
      "text/plain": [
       "<Figure size 432x288 with 1 Axes>"
      ]
     },
     "metadata": {
      "needs_background": "light"
     },
     "output_type": "display_data"
    }
   ],
   "source": [
    "prediction()"
   ]
  },
  {
   "cell_type": "code",
   "execution_count": null,
   "metadata": {},
   "outputs": [],
   "source": []
  }
 ],
 "metadata": {
  "kernelspec": {
   "display_name": "Python 3",
   "language": "python",
   "name": "python3"
  },
  "language_info": {
   "codemirror_mode": {
    "name": "ipython",
    "version": 3
   },
   "file_extension": ".py",
   "mimetype": "text/x-python",
   "name": "python",
   "nbconvert_exporter": "python",
   "pygments_lexer": "ipython3",
   "version": "3.5.2"
  }
 },
 "nbformat": 4,
 "nbformat_minor": 2
}
